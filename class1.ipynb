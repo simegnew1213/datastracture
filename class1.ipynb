{
 "cells": [
  {
   "cell_type": "markdown",
   "id": "9aa2e8f6",
   "metadata": {},
   "source": [
    "<h1>📚 Sorting Algorithms information About Student</h1>\n",
    "  <h2>Name: Simegnew Aregahegn</h2>\n",
    "  <h3>ID: DBU1601614</h3>\n",
    "  <h4>Department: Data Science 2nd Batch</h4>\n",
    "  <h5>GitHub Address: https://github.com/simegnew1213/Data-Structure.git </h5>\n",
    "  <h5>🧑‍💻 Submitted to:Petros Abebe</h5>\n",
    "  \n",
    "\n"
   ]
  },
  {
   "cell_type": "markdown",
   "id": "48d5b5d6",
   "metadata": {},
   "source": [
    "1,Create a Python program that generates at least 10 students' profiles that contain (id, name,  dept, cgpa)\n",
    "using a dictionary like the following format:"
   ]
  },
  {
   "cell_type": "code",
   "execution_count": 1,
   "id": "5517b934",
   "metadata": {},
   "outputs": [
    {
     "name": "stdout",
     "output_type": "stream",
     "text": [
      "Original list:\n",
      "ID: DBU1500003, Name: dagi, Dept: CS, CGPA: 3.38\n",
      "ID: DBU1500001, Name: yonas, Dept: DS, CGPA: 2.75\n",
      "ID: DBU1500004, Name: sosi, Dept: IT, CGPA: 2.2\n",
      "ID: DBU1500002, Name: Yared, Dept: DS, CGPA: 2.49\n",
      "ID: DBU1500005, Name: Lamesgen, Dept: IT, CGPA: 3.31\n",
      "ID: DBU1500006, Name: Zewdu, Dept: CS, CGPA: 3.07\n",
      "ID: DBU1500008, Name: Melat, Dept: DS, CGPA: 3.52\n",
      "ID: DBU1500007, Name: girum, Dept: IT, CGPA: 3.9\n",
      "ID: DBU1500009, Name: Kidist, Dept: CE, CGPA: 2.42\n",
      "ID: DBU1500010, Name: Rahel, Dept: SE, CGPA: 2.64\n",
      "ID: DBU1500020, Name: Genet, Dept: CE, CGPA: 3.75\n",
      "ID: DBU1500030, Name: biruk, Dept: CS, CGPA: 2.95\n",
      "ID: DBU1500040, Name: Fikre, Dept: IT, CGPA: 2.7\n",
      "ID: DBU1500050, Name: filagot, Dept: SE, CGPA: 2.61\n",
      "ID: DBU1500060, Name: john, Dept: CS, CGPA: 3.94\n"
     ]
    }
   ],
   "source": [
    "students = [\n",
    "    {\"ID\": \"DBU1500003\", \"Name\": \"dagi\", \"Dept\": \"CS\", \"CGPA\": 3.38},\n",
    "    {\"ID\": \"DBU1500001\", \"Name\": \"yonas\", \"Dept\": \"DS\", \"CGPA\": 2.75},\n",
    "    {\"ID\": \"DBU1500004\", \"Name\": \"sosi\", \"Dept\": \"IT\", \"CGPA\": 2.2},\n",
    "    {\"ID\": \"DBU1500002\", \"Name\": \"Yared\", \"Dept\": \"DS\", \"CGPA\": 2.49},\n",
    "    {\"ID\": \"DBU1500005\", \"Name\": \"Lamesgen\", \"Dept\": \"IT\", \"CGPA\": 3.31},\n",
    "    {\"ID\": \"DBU1500006\", \"Name\": \"Zewdu\", \"Dept\": \"CS\", \"CGPA\": 3.07},\n",
    "    {\"ID\": \"DBU1500008\", \"Name\": \"Melat\", \"Dept\": \"DS\", \"CGPA\": 3.52},\n",
    "    {\"ID\": \"DBU1500007\", \"Name\": \"girum\", \"Dept\": \"IT\", \"CGPA\": 3.9},\n",
    "    {\"ID\": \"DBU1500009\", \"Name\": \"Kidist\", \"Dept\": \"CE\", \"CGPA\": 2.42},\n",
    "    {\"ID\": \"DBU1500010\", \"Name\": \"Rahel\", \"Dept\": \"SE\", \"CGPA\": 2.64},\n",
    "    {\"ID\": \"DBU1500020\", \"Name\": \"Genet\", \"Dept\": \"CE\", \"CGPA\": 3.75},\n",
    "    {\"ID\": \"DBU1500030\", \"Name\": \"biruk\", \"Dept\": \"CS\", \"CGPA\": 2.95},\n",
    "    {\"ID\": \"DBU1500040\", \"Name\": \"Fikre\", \"Dept\": \"IT\", \"CGPA\": 2.7},\n",
    "    {\"ID\": \"DBU1500050\", \"Name\": \"filagot\", \"Dept\": \"SE\", \"CGPA\": 2.61},\n",
    "    {\"ID\": \"DBU1500060\", \"Name\": \"john\", \"Dept\": \"CS\", \"CGPA\": 3.94}\n",
    "]\n",
    "\n",
    "def print_students(student_list):\n",
    "    for student in student_list:\n",
    "        print(f\"ID: {student['ID']}, Name: {student['Name']}, Dept: {student['Dept']}, CGPA: {student['CGPA']}\")\n",
    "\n",
    "print(\"Original list:\")\n",
    "print_students(students)"
   ]
  },
  {
   "cell_type": "markdown",
   "id": "2848d764",
   "metadata": {},
   "source": [
    "<h3>1 .Write a function for the Bubble sort algorithm to sort the list of student dictionaries by ID</h3>\n",
    "    \n",
    "    "
   ]
  },
  {
   "cell_type": "code",
   "execution_count": 2,
   "id": "54df7065",
   "metadata": {},
   "outputs": [
    {
     "name": "stdout",
     "output_type": "stream",
     "text": [
      "\n",
      "Sorted by ID (Bubble Sort):\n",
      "ID: DBU1500001, Name: yonas, Dept: DS, CGPA: 2.75\n",
      "ID: DBU1500002, Name: Yared, Dept: DS, CGPA: 2.49\n",
      "ID: DBU1500003, Name: dagi, Dept: CS, CGPA: 3.38\n",
      "ID: DBU1500004, Name: sosi, Dept: IT, CGPA: 2.2\n",
      "ID: DBU1500005, Name: Lamesgen, Dept: IT, CGPA: 3.31\n",
      "ID: DBU1500006, Name: Zewdu, Dept: CS, CGPA: 3.07\n",
      "ID: DBU1500007, Name: girum, Dept: IT, CGPA: 3.9\n",
      "ID: DBU1500008, Name: Melat, Dept: DS, CGPA: 3.52\n",
      "ID: DBU1500009, Name: Kidist, Dept: CE, CGPA: 2.42\n",
      "ID: DBU1500010, Name: Rahel, Dept: SE, CGPA: 2.64\n",
      "ID: DBU1500020, Name: Genet, Dept: CE, CGPA: 3.75\n",
      "ID: DBU1500030, Name: biruk, Dept: CS, CGPA: 2.95\n",
      "ID: DBU1500040, Name: Fikre, Dept: IT, CGPA: 2.7\n",
      "ID: DBU1500050, Name: filagot, Dept: SE, CGPA: 2.61\n",
      "ID: DBU1500060, Name: john, Dept: CS, CGPA: 3.94\n"
     ]
    }
   ],
   "source": [
    "#Bubble Sort by ID\n",
    "def bubble_sort_by_id(student_list):\n",
    "    n = len(student_list)\n",
    "    sorted_list = student_list.copy()\n",
    "    for i in range(n-1):\n",
    "        for j in range(0, n-i-1):\n",
    "            if sorted_list[j][\"ID\"] > sorted_list[j+1][\"ID\"]:\n",
    "                sorted_list[j], sorted_list[j+1] = sorted_list[j+1], sorted_list[j]\n",
    "    return sorted_list\n",
    "print(\"\\nSorted by ID (Bubble Sort):\")\n",
    "sorted_by_id = bubble_sort_by_id(students)\n",
    "print_students(sorted_by_id)"
   ]
  },
  {
   "cell_type": "markdown",
   "id": "8c0cbc84",
   "metadata": {},
   "source": [
    "<h3>2 .Write a function for the Insertion sort algorithm to sort the list of students alphabetically by Name</h3>"
   ]
  },
  {
   "cell_type": "code",
   "execution_count": 4,
   "id": "6c757e54",
   "metadata": {},
   "outputs": [
    {
     "name": "stdout",
     "output_type": "stream",
     "text": [
      "\n",
      "Sorted by Name (Insertion Sort):\n",
      "ID: DBU1500030, Name: biruk, Dept: CS, CGPA: 2.95\n",
      "ID: DBU1500003, Name: dagi, Dept: CS, CGPA: 3.38\n",
      "ID: DBU1500040, Name: Fikre, Dept: IT, CGPA: 2.7\n",
      "ID: DBU1500050, Name: filagot, Dept: SE, CGPA: 2.61\n",
      "ID: DBU1500020, Name: Genet, Dept: CE, CGPA: 3.75\n",
      "ID: DBU1500007, Name: girum, Dept: IT, CGPA: 3.9\n",
      "ID: DBU1500060, Name: john, Dept: CS, CGPA: 3.94\n",
      "ID: DBU1500009, Name: Kidist, Dept: CE, CGPA: 2.42\n",
      "ID: DBU1500005, Name: Lamesgen, Dept: IT, CGPA: 3.31\n",
      "ID: DBU1500008, Name: Melat, Dept: DS, CGPA: 3.52\n",
      "ID: DBU1500010, Name: Rahel, Dept: SE, CGPA: 2.64\n",
      "ID: DBU1500004, Name: sosi, Dept: IT, CGPA: 2.2\n",
      "ID: DBU1500002, Name: Yared, Dept: DS, CGPA: 2.49\n",
      "ID: DBU1500001, Name: yonas, Dept: DS, CGPA: 2.75\n",
      "ID: DBU1500006, Name: Zewdu, Dept: CS, CGPA: 3.07\n"
     ]
    }
   ],
   "source": [
    " #Insertion Sort by Name\n",
    "def insertion_sort_by_name(student_list):\n",
    "    sorted_list = student_list.copy()\n",
    "    for i in range(1, len(sorted_list)):\n",
    "        key = sorted_list[i]\n",
    "        j = i-1\n",
    "        while j >= 0 and sorted_list[j][\"Name\"].lower() > key[\"Name\"].lower():\n",
    "            sorted_list[j+1] = sorted_list[j]\n",
    "            j -= 1\n",
    "        sorted_list[j+1] = key\n",
    "    return sorted_list\n",
    "print(\"\\nSorted by Name (Insertion Sort):\")\n",
    "sorted_by_name = insertion_sort_by_name(students)\n",
    "print_students(sorted_by_name)"
   ]
  },
  {
   "cell_type": "markdown",
   "id": "f26b83a2",
   "metadata": {},
   "source": [
    "<h3>3 .Write a function for the Selection sort algorithm to sort the list of students by CGPA\n",
    "        In descending order (Highest scorer to Lowest scorer)</h3>"
   ]
  },
  {
   "cell_type": "code",
   "execution_count": 3,
   "id": "ebe8a03b",
   "metadata": {},
   "outputs": [
    {
     "name": "stdout",
     "output_type": "stream",
     "text": [
      "\n",
      "Sorted by CGPA (Selection Sort - Descending):\n",
      "ID: DBU1500060, Name: john, Dept: CS, CGPA: 3.94\n",
      "ID: DBU1500007, Name: girum, Dept: IT, CGPA: 3.9\n",
      "ID: DBU1500020, Name: Genet, Dept: CE, CGPA: 3.75\n",
      "ID: DBU1500008, Name: Melat, Dept: DS, CGPA: 3.52\n",
      "ID: DBU1500003, Name: dagi, Dept: CS, CGPA: 3.38\n",
      "ID: DBU1500005, Name: Lamesgen, Dept: IT, CGPA: 3.31\n",
      "ID: DBU1500006, Name: Zewdu, Dept: CS, CGPA: 3.07\n",
      "ID: DBU1500030, Name: biruk, Dept: CS, CGPA: 2.95\n",
      "ID: DBU1500001, Name: yonas, Dept: DS, CGPA: 2.75\n",
      "ID: DBU1500040, Name: Fikre, Dept: IT, CGPA: 2.7\n",
      "ID: DBU1500010, Name: Rahel, Dept: SE, CGPA: 2.64\n",
      "ID: DBU1500050, Name: filagot, Dept: SE, CGPA: 2.61\n",
      "ID: DBU1500002, Name: Yared, Dept: DS, CGPA: 2.49\n",
      "ID: DBU1500009, Name: Kidist, Dept: CE, CGPA: 2.42\n",
      "ID: DBU1500004, Name: sosi, Dept: IT, CGPA: 2.2\n"
     ]
    }
   ],
   "source": [
    "#Selection Sort by CGPA (Descending Order)\n",
    "def selection_sort_by_cgpa(student_list):\n",
    "    sorted_list = student_list.copy()\n",
    "    n = len(sorted_list)\n",
    "    for i in range(n):\n",
    "        max_idx = i\n",
    "        for j in range(i+1, n):\n",
    "            if sorted_list[j][\"CGPA\"] > sorted_list[max_idx][\"CGPA\"]:\n",
    "                max_idx = j\n",
    "        sorted_list[i], sorted_list[max_idx] = sorted_list[max_idx], sorted_list[i]\n",
    "    return sorted_list\n",
    "print(\"\\nSorted by CGPA (Selection Sort - Descending):\")\n",
    "sorted_by_cgpa = selection_sort_by_cgpa(students)\n",
    "print_students(sorted_by_cgpa)"
   ]
  },
  {
   "cell_type": "markdown",
   "id": "14c95e44",
   "metadata": {},
   "source": [
    "<h1 style=\"color:blue\"> ⭐ Performance Analysis and Discussion</h1>"
   ]
  },
  {
   "cell_type": "markdown",
   "id": "9bc2e80c",
   "metadata": {},
   "source": [
    "<h3 style=\"color:gry;\">❖ Performance Comparison</h3>"
   ]
  },
  {
   "cell_type": "markdown",
   "id": "113fbb3f",
   "metadata": {},
   "source": [
    "<p>All three sorting algorithms (Bubble Sort, Insertion Sort, and Selection Sort) have the same average and worst-case time complexity of O(n²) for a list of size n. However, their actual performance can vary based on the input data:</p>"
   ]
  },
  {
   "cell_type": "markdown",
   "id": "f9fbff74",
   "metadata": {},
   "source": [
    "<h4>1.Bubble Sort:</h4>\n",
    "\n",
    "<p>◉  Best case (already sorted): O(n)</p>\n",
    "\n",
    "<p>◉  Worst case (reverse sorted): O(n²)</p>\n",
    "\n",
    "<p>◉  In our implementation for sorting by ID, it performs n(n-1)/2 comparisons in the worst case</p>"
   ]
  },
  {
   "cell_type": "markdown",
   "id": "d9d6d279",
   "metadata": {},
   "source": [
    "<h4>2.Insertion Sort:</h4>\n",
    "\n",
    "<p>◀  Best case (already sorted): O(n)</p>\n",
    "<p>◀  Worst case (reverse sorted): O(n²)</p>\n",
    "\n",
    "<p>◀  For sorting names, it can be efficient for small datasets or nearly sorted data as it has less overhead than Bubble Sort.</p>"
   ]
  },
  {
   "cell_type": "markdown",
   "id": "8891583e",
   "metadata": {},
   "source": [
    "<h4>3.Selection Sort:</h4>\n",
    "\n",
    "<p>✅ Always performs O(n²) comparisons regardless of input order</p>\n",
    "\n",
    "<p>✅ Makes only O(n) swaps, which can be advantageous if swaps are expensive</p>\n",
    "\n",
    "<p>✅ For our CGPA sorting, it always performs the same number of comparisons</p>"
   ]
  },
  {
   "cell_type": "markdown",
   "id": "136c7389",
   "metadata": {},
   "source": [
    "<h2>1.1 Advantages and Disadvantages for Sorting Dictionary Data</h2>"
   ]
  },
  {
   "cell_type": "markdown",
   "id": "693471f6",
   "metadata": {},
   "source": [
    "<h4 style=\"color:chocolate;\">🖋️  Bubble Sort:</h4>\n",
    "<h5 style=\"color:rgb(26, 147, 191);\">📘  Advantages:</h5>\n",
    "\n",
    "<p>✧    Simple to implement</p>\n",
    "\n",
    "<p>✧    Efficient for nearly sorted data</p>\n",
    "\n",
    "<p>✧    Stable sort (maintains relative order of equal elements)</p>\n",
    "\n",
    "<h5 style=\"color:rgb(26, 147, 191);\"> 📗 Disadvantages:</h5>\n",
    "\n",
    "<p>✧    Poor performance on large datasets</p>\n",
    "\n",
    "<p>✧    Many unnecessary swaps even when data is already sorted</p>"
   ]
  },
  {
   "cell_type": "markdown",
   "id": "21c0dcd4",
   "metadata": {},
   "source": [
    "<h4 style=\"color:rgb(207, 28, 28);\">🔷 Insertion Sort:</h4>\n",
    "\n",
    "<h5 style=\"color:rgb(26, 147, 191);\">📖  Advantages:</h5>\n",
    "\n",
    "<p>☑  Efficient for small datasets</p>\n",
    "\n",
    "<p>☑  Stable sort</p>\n",
    "\n",
    "<p>☑  Good for nearly sorted data (best case O(n))</p>\n",
    "\n",
    "<p>☑  Low overhead</p>\n",
    "\n",
    "<h5 style=\"color:rgb(26, 147, 191);\">📖  Disadvantages:</h5>\n",
    "\n",
    "<p>✅  Poor performance on large, unsorted datasets</p>\n",
    "\n",
    "<p>✅  Shifting elements can be expensive</p>"
   ]
  },
  {
   "cell_type": "markdown",
   "id": "f02a33ff",
   "metadata": {},
   "source": [
    "<h4 style=\"color:rgb(201, 67, 129);\">⚪  Selection Sort:</h4>\n",
    "\n",
    "<h5 style=\"color:rgb(26, 147, 191);\">✴️ Advantages:</h5>\n",
    "\n",
    "★ Simple to implement\n",
    "\n",
    "★ Performs minimum number of swaps (O(n))\n",
    "\n",
    "★ In-place sorting (low memory usage)\n",
    "\n",
    "<h5 style=\"color:rgb(26, 147, 191);\">📙 Disadvantages:</h5>\n",
    "★ Always performs O(n²) comparisons\n",
    "\n",
    "★ Not stable (may change relative order of equal elements)\n",
    "\n",
    "★ Poor performance on large datasets"
   ]
  },
  {
   "cell_type": "markdown",
   "id": "12f1a5fe",
   "metadata": {},
   "source": [
    "<h1>🛠️  Conclusion</h1>"
   ]
  },
  {
   "cell_type": "markdown",
   "id": "3d7ddca2",
   "metadata": {},
   "source": [
    "<h5>🔥For sorting dictionary data like student records:</h5>\n"
   ]
  },
  {
   "cell_type": "markdown",
   "id": "92004fdd",
   "metadata": {},
   "source": [
    "<b style=\"color:rgb(58, 28, 207);\">Insertion Sort :</b> is generally the best choice among these three for small datasets or nearly sorted data due to its stability and good performance in these cases.\n",
    "     <p>➡️ It is very easy to learn for beginners and execute for small datasets,\n",
    "bubble sort is not appropriate for efficiently sorting large datasets.</p>"
   ]
  },
  {
   "cell_type": "markdown",
   "id": "54b4b13b",
   "metadata": {},
   "source": [
    "<b style=\"color:rgb(58, 28, 207);\">Bubble Sort : </b>(with optimization) can be reasonable for very small datasets or educational purposes.\n",
    "<p>➡️ It is a stable and in-place sorting algorithm that can be\n",
    "implemented simply and easily which makes it more helpful for\n",
    "sorting nearly-sorted elements.</p>"
   ]
  },
  {
   "cell_type": "markdown",
   "id": "92d3f492",
   "metadata": {},
   "source": [
    "<b style=\"color:rgb(58, 28, 207);\"> Selection Sort:  </b>is rarely the best choice but can be useful when swap operations are expensive.\n",
    "<p>➡️ It works by repeatedly finding the smallest (or largest, depending on\n",
    "sorting order) element from the unsorted portion of the array and\n",
    "swapping it with the first unsorted element.</p>"
   ]
  },
  {
   "cell_type": "markdown",
   "id": "f445a239",
   "metadata": {},
   "source": [
    "<p>❖ This analysis demonstrates that while these basic sorting algorithms serve important educational purposes, their practical application for dictionary sorting is limited to specific cases where either dataset size is small or particular algorithm characteristics (like stability or swap efficiency) are required.</p>"
   ]
  },
  {
   "cell_type": "markdown",
   "id": "78259874",
   "metadata": {},
   "source": []
  }
 ],
 "metadata": {
  "kernelspec": {
   "display_name": "Python 3",
   "language": "python",
   "name": "python3"
  },
  "language_info": {
   "codemirror_mode": {
    "name": "ipython",
    "version": 3
   },
   "file_extension": ".py",
   "mimetype": "text/x-python",
   "name": "python",
   "nbconvert_exporter": "python",
   "pygments_lexer": "ipython3",
   "version": "3.11.9"
  }
 },
 "nbformat": 4,
 "nbformat_minor": 5
}
